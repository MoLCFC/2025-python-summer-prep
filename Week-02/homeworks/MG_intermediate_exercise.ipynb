{
 "cells": [
  {
   "cell_type": "markdown",
   "metadata": {},
   "source": [
    "## ❌ DO NOT EDIT - MAKE A COPY\n",
    "# Q1: Alphabet Slices\n",
    "* Store the first ten letters of the alphabet in a list.\n",
    "* Use a slice to print out the first three letters of the alphabet.\n",
    "* Use a slice to print out any three letters from the middle of your list."
   ]
  },
  {
   "cell_type": "code",
   "execution_count": 2,
   "metadata": {},
   "outputs": [
    {
     "name": "stdout",
     "output_type": "stream",
     "text": [
      "=== Q1: Alphabet Slices ===\n",
      "Alphabet (first 10 letters): ['a', 'b', 'c', 'd', 'e', 'f', 'g', 'h', 'i', 'j']\n",
      "First three letters: ['a', 'b', 'c']\n",
      "Middle three letters (example): ['d', 'e', 'f']\n"
     ]
    }
   ],
   "source": [
    "# Solve Alphabet slices here. \n",
    "## Extra Credit:  Do this without 'hard coding' the alpahbet.\n",
    "\n",
    "import string \n",
    "\n",
    "alphabet = list(string.ascii_lowercase[:10])  \n",
    "print(\"=== Q1: Alphabet Slices ===\")\n",
    "print(\"Alphabet (first 10 letters):\", alphabet)\n",
    "print(\"First three letters:\", alphabet[:3])\n",
    "print(\"Middle three letters (example):\", alphabet[3:6])\n",
    "\n",
    "\n"
   ]
  },
  {
   "cell_type": "markdown",
   "metadata": {},
   "source": [
    "# Q2:  Covert all the rapper names to title case and save them into a new different list. \n",
    "Example: **lil wayne** becomes **Lil Wayne**"
   ]
  },
  {
   "cell_type": "code",
   "execution_count": 3,
   "metadata": {},
   "outputs": [
    {
     "name": "stdout",
     "output_type": "stream",
     "text": [
      "\n",
      "=== Q2: Title‑casing Rapper Names ===\n",
      "Original list: ['lil wayne', 'nicki minaj', 'drake']\n",
      "Title‑cased list: ['Lil Wayne', 'Nicki Minaj', 'Drake']\n"
     ]
    }
   ],
   "source": [
    "# Solve rapper names here\n",
    "rappers = ['lil wayne', 'nicki minaj', 'drake']\n",
    "rappers_title = [name.title() for name in rappers]\n",
    "print(\"\\n=== Q2: Title‑casing Rapper Names ===\")\n",
    "print(\"Original list:\", rappers)\n",
    "print(\"Title‑cased list:\", rappers_title)\n"
   ]
  },
  {
   "cell_type": "markdown",
   "metadata": {},
   "source": [
    "# Q3: Write a function that takes a number and returns:\n",
    "* True if the input number is even.\n",
    "* False if the input number is odd."
   ]
  },
  {
   "cell_type": "code",
   "execution_count": 4,
   "metadata": {},
   "outputs": [
    {
     "name": "stdout",
     "output_type": "stream",
     "text": [
      "\n",
      "=== Q3: Even/Odd Function ===\n",
      "even_odd(4) -> True\n",
      "even_odd(5) -> False\n"
     ]
    }
   ],
   "source": [
    "# Solve problem here\n",
    "\n",
    "def even_odd(num):\n",
    "    \"\"\"Return True if num is even, else False.\"\"\"\n",
    "    return num % 2 == 0\n",
    "\n",
    "print(\"\\n=== Q3: Even/Odd Function ===\")\n",
    "for test in [4, 5]:\n",
    "    print(f\"even_odd({test}) -> {even_odd(test)}\")"
   ]
  },
  {
   "cell_type": "markdown",
   "metadata": {},
   "source": [
    "# Q4: Find the sum and the average of this list of numbers.\n",
    "\n",
    "Try doing this using a loop.  Then try doing this without using a loop. \n"
   ]
  },
  {
   "cell_type": "code",
   "execution_count": 5,
   "metadata": {},
   "outputs": [
    {
     "name": "stdout",
     "output_type": "stream",
     "text": [
      "\n",
      "=== Q4: Sum and Average of List ===\n",
      "Using loop   -> sum: 353 avg: 35.3\n",
      "Built‑ins    -> sum: 353 avg: 35.3\n"
     ]
    }
   ],
   "source": [
    "# Solve problem here:\n",
    "\n",
    "my_list = [1, 5, 10, 55, 88, 44, 42, 50, 20, 38]\n",
    "\n",
    "# Using a loop\n",
    "sum_with_loop = 0\n",
    "for n in my_list:\n",
    "    sum_with_loop += n\n",
    "avg_with_loop = sum_with_loop / len(my_list)\n",
    "\n",
    "# Without using a loop\n",
    "list_sum = sum(my_list)\n",
    "list_average = list_sum / len(my_list)\n",
    "\n",
    "print(\"\\n=== Q4: Sum and Average of List ===\")\n",
    "print(\"Using loop   -> sum:\", sum_with_loop, \"avg:\", avg_with_loop)\n",
    "print(\"Built‑ins    -> sum:\", list_sum, \"avg:\", list_average)\n"
   ]
  },
  {
   "cell_type": "markdown",
   "metadata": {},
   "source": [
    "# Q5: \n",
    "## Write a function that takes a list and returns a new list that has all the duplicates removed.\n",
    "\n",
    "Example input and expected output:\n",
    "- input = `[\"Michele\", \"Robin\", \"Sara\", \"Michele\"]`\n",
    "- expected output = `['Michele', 'Robin', 'Sara']`\n"
   ]
  },
  {
   "cell_type": "code",
   "execution_count": 6,
   "metadata": {},
   "outputs": [
    {
     "name": "stdout",
     "output_type": "stream",
     "text": [
      "\n",
      "=== Q5: Remove Duplicates ===\n",
      "Original list: ['Michele', 'Robin', 'Sara', 'Michele']\n",
      "Unique list  : ['Michele', 'Robin', 'Sara']\n"
     ]
    }
   ],
   "source": [
    "# Solve problem here:\n",
    "\n",
    "def remove_duplicates(lst):\n",
    "    \"\"\"Return a list with duplicates removed, preserving order.\"\"\"\n",
    "    return list(dict.fromkeys(lst))\n",
    "\n",
    "names = [\"Michele\", \"Robin\", \"Sara\", \"Michele\"]\n",
    "unique_names = remove_duplicates(names)\n",
    "\n",
    "print(\"\\n=== Q5: Remove Duplicates ===\")\n",
    "print(\"Original list:\", names)\n",
    "print(\"Unique list  :\", unique_names)\n"
   ]
  },
  {
   "cell_type": "markdown",
   "metadata": {},
   "source": [
    "# Q6: Write a function that takes a list of numbers \n",
    "(for example, `a = [5, 10, 15, 20, 25]`) and returns a new list of only the first and last elements of the given list.\n",
    "\n",
    "Example input and expected output:\n",
    "- input = `[5, 10, 15, 20, 25]`\n",
    "- expected output = `[5, 25]`"
   ]
  },
  {
   "cell_type": "code",
   "execution_count": 7,
   "metadata": {},
   "outputs": [
    {
     "name": "stdout",
     "output_type": "stream",
     "text": [
      "\n",
      "=== Q6: First and Last Elements ===\n",
      "Input list : [5, 10, 99, 20, 25]\n",
      "Output list: [5, 25]\n"
     ]
    }
   ],
   "source": [
    "# Solve problem here:\n",
    "def first_last(lst):\n",
    "    \"\"\"Return a list containing only the first and last elements.\"\"\"\n",
    "    if not lst:\n",
    "        return []\n",
    "    return [lst[0], lst[-1]]\n",
    "\n",
    "input_list = [5, 10, 99, 20, 25]\n",
    "first_last_list = first_last(input_list)\n",
    "\n",
    "print(\"\\n=== Q6: First and Last Elements ===\")\n",
    "print(\"Input list :\", input_list)\n",
    "print(\"Output list:\", first_last_list)"
   ]
  },
  {
   "cell_type": "markdown",
   "metadata": {},
   "source": [
    "# Q7: \n",
    "## Implement a function that takes as input three variables, and returns the largest of the three. \n",
    "### Try doing this without using the `max()` function!\n",
    "\n",
    "_**Note:** all three input numbers will always be different, no need to account for a tie._\n",
    "\n",
    "Example input and expected output:\n",
    "- input: `your_function(1, 5, 10)`\n",
    "- expected output:  `10`"
   ]
  },
  {
   "cell_type": "code",
   "execution_count": 8,
   "metadata": {},
   "outputs": [],
   "source": [
    "# Solve Problem here:\n",
    "\n",
    "def my_max(a, b, c):\n",
    "    \"\"\"Return the largest of three distinct numbers.\"\"\"\n",
    "    largest = a\n",
    "    if b > largest:\n",
    "        largest = b\n",
    "    if c > largest:\n",
    "        largest = c\n",
    "    return largest\n",
    "    "
   ]
  },
  {
   "cell_type": "code",
   "execution_count": 9,
   "metadata": {},
   "outputs": [
    {
     "name": "stdout",
     "output_type": "stream",
     "text": [
      "\n",
      "=== Q7: Largest of Three Numbers ===\n",
      "my_max(1, 5, 10) -> 10\n"
     ]
    }
   ],
   "source": [
    "print(\"\\n=== Q7: Largest of Three Numbers ===\")\n",
    "print(\"my_max(1, 5, 10) ->\", my_max(1, 5, 10))"
   ]
  },
  {
   "cell_type": "markdown",
   "metadata": {},
   "source": [
    "# Q8: Write a function that takes a number as input and returns the following:\n",
    "* If the input is divisible by three, return `'fizz'`\n",
    "* If the input is divisible by five, return `'buzz'`\n",
    "* If the input is divisible by three and by five, return `'fizzbuzz'`\n",
    "* If the input is not divisible by three or five, return `None`."
   ]
  },
  {
   "cell_type": "code",
   "execution_count": 10,
   "metadata": {},
   "outputs": [
    {
     "name": "stdout",
     "output_type": "stream",
     "text": [
      "\n",
      "=== Q8: FizzBuzz ===\n",
      "fizzbuzz(9) -> fizz\n",
      "fizzbuzz(10) -> buzz\n",
      "fizzbuzz(15) -> fizzbuzz\n",
      "fizzbuzz(7) -> None\n"
     ]
    }
   ],
   "source": [
    "# Solve Problem fizzbuzz here:\n",
    "def fizzbuzz(n):\n",
    "    \"\"\"Return 'fizz', 'buzz', 'fizzbuzz', or None based on divisibility.\"\"\"\n",
    "    if n % 15 == 0:\n",
    "        return 'fizzbuzz'\n",
    "    elif n % 3 == 0:\n",
    "        return 'fizz'\n",
    "    elif n % 5 == 0:\n",
    "        return 'buzz'\n",
    "    else:\n",
    "        return None\n",
    "\n",
    "print(\"\\n=== Q8: FizzBuzz ===\")\n",
    "for test in [9, 10, 15, 7]:\n",
    "    print(f\"fizzbuzz({test}) -> {fizzbuzz(test)}\")"
   ]
  }
 ],
 "metadata": {
  "kernelspec": {
   "display_name": "Python 3",
   "language": "python",
   "name": "python3"
  },
  "language_info": {
   "codemirror_mode": {
    "name": "ipython",
    "version": 3
   },
   "file_extension": ".py",
   "mimetype": "text/x-python",
   "name": "python",
   "nbconvert_exporter": "python",
   "pygments_lexer": "ipython3",
   "version": "3.12.1"
  }
 },
 "nbformat": 4,
 "nbformat_minor": 4
}
